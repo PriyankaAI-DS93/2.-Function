{
 "cells": [
  {
   "cell_type": "code",
   "execution_count": 17,
   "id": "b1fb60ee-1d00-4cff-b490-ac02b0e49ae8",
   "metadata": {},
   "outputs": [
    {
     "name": "stdout",
     "output_type": "stream",
     "text": [
      "Subfields in AI are:\n",
      "Machine Learning\n",
      "Neural Networks\n",
      "Vision\n",
      "Robotics\n",
      "Speech Processing\n",
      "Natural Language Processing\n"
     ]
    }
   ],
   "source": [
    "lists='Machine Learning', 'Neural Networks', 'Vision', 'Robotics', 'Speech Processing', 'Natural Language Processing'\n",
    "print(\"Subfields in AI are:\")\n",
    "def SubfieLds():\n",
    "    len(lists)\n",
    "    for temp in range(len(lists)):\n",
    "        print(lists[temp])\n",
    "SubfieLds()"
   ]
  },
  {
   "cell_type": "code",
   "execution_count": null,
   "id": "71f8680e-0e70-42b0-90f0-e046ccaf5b87",
   "metadata": {},
   "outputs": [],
   "source": [
    "#oddEven()"
   ]
  },
  {
   "cell_type": "code",
   "execution_count": 18,
   "id": "8a646cab-9b77-4eba-9ea8-c4343025a359",
   "metadata": {},
   "outputs": [
    {
     "name": "stdin",
     "output_type": "stream",
     "text": [
      "Enter a number 52452\n"
     ]
    },
    {
     "name": "stdout",
     "output_type": "stream",
     "text": [
      "52452 is Even number\n"
     ]
    }
   ],
   "source": [
    "def OddEven():\n",
    "    num=int(input(\"Enter a number\"))\n",
    "    if num%2==1:\n",
    "        print(num, \"is Odd number\")\n",
    "    else:\n",
    "        print(num, \"is Even number\")\n",
    "OddEven()"
   ]
  },
  {
   "cell_type": "code",
   "execution_count": null,
   "id": "dbbe4a20-8737-402c-8bdc-5e71fd19c5a5",
   "metadata": {},
   "outputs": [],
   "source": [
    "#Marriage eligible()"
   ]
  },
  {
   "cell_type": "code",
   "execution_count": 19,
   "id": "fdba9b49-7cfd-4654-96cd-0b7d66500338",
   "metadata": {},
   "outputs": [
    {
     "name": "stdin",
     "output_type": "stream",
     "text": [
      "Your Gender Male\n",
      "Your Age 20\n"
     ]
    },
    {
     "name": "stdout",
     "output_type": "stream",
     "text": [
      "NOT ELIGIBLE\n"
     ]
    }
   ],
   "source": [
    "def eligibiltymarriage():\n",
    "    gender=input(\"Your Gender\")\n",
    "    age=int(input(\"Your Age\"))\n",
    "    if gender==\"Male\":\n",
    "        if age<21:\n",
    "            print(\"NOT ELIGIBLE\")\n",
    "        else:\n",
    "            print(\"ELIGIBLE\")\n",
    "    if gender==\"Female\":\n",
    "        if age<18:\n",
    "            print(\"NOT ELIGIBLE\")\n",
    "        else:\n",
    "            print(\"ELIGIBLE\")\n",
    "eligibiltymarriage()"
   ]
  },
  {
   "cell_type": "code",
   "execution_count": null,
   "id": "d1f851b4-ebb4-4dc7-9149-418f05d39328",
   "metadata": {},
   "outputs": [],
   "source": [
    "#percentage"
   ]
  },
  {
   "cell_type": "code",
   "execution_count": 20,
   "id": "37d4d3e0-4ed2-4f03-9826-3afc6a8ca4c4",
   "metadata": {},
   "outputs": [
    {
     "name": "stdin",
     "output_type": "stream",
     "text": [
      "Subject1= 98\n",
      "Subject2= 87\n",
      "Subject3= 95\n",
      "Subject4= 95\n",
      "Subject5= 93\n"
     ]
    },
    {
     "name": "stdout",
     "output_type": "stream",
     "text": [
      "Total: 468\n",
      "Percentge: 93.6\n"
     ]
    }
   ],
   "source": [
    "def percentage():\n",
    "    sub1=int(input(\"Subject1=\"))\n",
    "    sub2=int(input(\"Subject2=\"))\n",
    "    sub3=int(input(\"Subject3=\"))\n",
    "    sub4=int(input(\"Subject4=\"))\n",
    "    sub5=int(input(\"Subject5=\"))\n",
    "    total=sub1+sub2+sub3+sub4+sub5\n",
    "    print(\"Total:\", total)\n",
    "    percentage=total/5\n",
    "    print(\"Percentge:\", percentage)\n",
    "percentage()"
   ]
  },
  {
   "cell_type": "code",
   "execution_count": 1,
   "id": "9181d1a8-7e7b-4e73-8e4e-5dd96f921b30",
   "metadata": {},
   "outputs": [],
   "source": [
    "#traingle()"
   ]
  },
  {
   "cell_type": "code",
   "execution_count": 22,
   "id": "eafd4be7-651a-45ca-b8d0-7a17b5b1d064",
   "metadata": {},
   "outputs": [
    {
     "name": "stdin",
     "output_type": "stream",
     "text": [
      "Height= 32\n",
      "Breadth= 34\n"
     ]
    },
    {
     "name": "stdout",
     "output_type": "stream",
     "text": [
      "Area formula:(Height*Breadth)/2\n",
      "Area of trainlge 544.0\n"
     ]
    },
    {
     "name": "stdin",
     "output_type": "stream",
     "text": [
      "Height1: 2\n",
      "Height2: 4\n",
      "Breadth: 4\n"
     ]
    },
    {
     "name": "stdout",
     "output_type": "stream",
     "text": [
      "Perimeter formula: Height1+Height2+Breath3\n",
      "Perimeter of Traingle: 10\n"
     ]
    }
   ],
   "source": [
    "def traingle():\n",
    "    height=int(input(\"Height=\"))\n",
    "    breadth=int(input(\"Breadth=\"))\n",
    "    area=(height*breadth)/2\n",
    "    print(\"Area formula:(Height*Breadth)/2\")\n",
    "    print(\"Area of trainlge\", area)\n",
    "    height1=int(input(\"Height1:\"))\n",
    "    height2=int(input(\"Height2:\"))\n",
    "    breadth=int(input(\"Breadth:\"))\n",
    "    perimeter=(height1+height2+breadth)\n",
    "    print(\"Perimeter formula: Height1+Height2+Breath3\")\n",
    "    print(\"Perimeter of Traingle:\", perimeter)\n",
    "traingle()"
   ]
  },
  {
   "cell_type": "code",
   "execution_count": null,
   "id": "432469fb-0880-4b9b-bef0-e331662d712b",
   "metadata": {},
   "outputs": [],
   "source": []
  },
  {
   "cell_type": "code",
   "execution_count": null,
   "id": "20652af1-c642-433c-bc64-858bc7477b08",
   "metadata": {},
   "outputs": [],
   "source": []
  }
 ],
 "metadata": {
  "kernelspec": {
   "display_name": "Python 3 (ipykernel)",
   "language": "python",
   "name": "python3"
  },
  "language_info": {
   "codemirror_mode": {
    "name": "ipython",
    "version": 3
   },
   "file_extension": ".py",
   "mimetype": "text/x-python",
   "name": "python",
   "nbconvert_exporter": "python",
   "pygments_lexer": "ipython3",
   "version": "3.12.4"
  }
 },
 "nbformat": 4,
 "nbformat_minor": 5
}
